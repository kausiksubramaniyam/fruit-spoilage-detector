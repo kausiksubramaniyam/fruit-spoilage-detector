{
  "nbformat": 4,
  "nbformat_minor": 0,
  "metadata": {
    "colab": {
      "provenance": []
    },
    "kernelspec": {
      "name": "python3",
      "display_name": "Python 3"
    },
    "language_info": {
      "name": "python"
    }
  },
  "cells": [
    {
      "cell_type": "code",
      "execution_count": null,
      "metadata": {
        "colab": {
          "base_uri": "https://localhost:8080/"
        },
        "id": "r3yQVVofFOm0",
        "outputId": "98e07a4e-4bcd-4c4d-f04b-7c7ceaec08a5"
      },
      "outputs": [
        {
          "output_type": "stream",
          "name": "stdout",
          "text": [
            "Mounted at /content/drive\n"
          ]
        }
      ],
      "source": [
        "from google.colab import drive \n",
        "drive.mount('/content/drive')"
      ]
    },
    {
      "cell_type": "code",
      "source": [
        "import os\n",
        "count = 0\n",
        "\n",
        "    "
      ],
      "metadata": {
        "colab": {
          "base_uri": "https://localhost:8080/"
        },
        "id": "wZe4VXQ8FwXb",
        "outputId": "5a20f429-b947-400c-f405-3f526b72e124"
      },
      "execution_count": null,
      "outputs": [
        {
          "output_type": "stream",
          "name": "stdout",
          "text": [
            ".config\n",
            "drive\n",
            "sample_data\n"
          ]
        }
      ]
    },
    {
      "cell_type": "code",
      "source": [
        "%cd '/content/drive/My Drive/train_data/images/train'"
      ],
      "metadata": {
        "colab": {
          "base_uri": "https://localhost:8080/"
        },
        "id": "cjtI4zeGGkr4",
        "outputId": "bde19743-2ea6-42c4-d68a-b0826b5f8775"
      },
      "execution_count": null,
      "outputs": [
        {
          "output_type": "stream",
          "name": "stdout",
          "text": [
            "/content/drive/My Drive/train_data/images/train\n"
          ]
        }
      ]
    },
    {
      "cell_type": "code",
      "source": [
        "count=0\n",
        "for i in os.listdir():\n",
        "  os.rename(i,str(count)+ '.'+ i.split('.')[-1])\n",
        "  count+=1"
      ],
      "metadata": {
        "id": "1BTzn0p2G5Oq"
      },
      "execution_count": null,
      "outputs": []
    },
    {
      "cell_type": "code",
      "source": [
        "%cd '/content/drive/My Drive/train_data/labels/train'"
      ],
      "metadata": {
        "colab": {
          "base_uri": "https://localhost:8080/"
        },
        "id": "6cvKLWxRHZXf",
        "outputId": "9891e55b-76b0-46f9-839f-5a7d78057c20"
      },
      "execution_count": null,
      "outputs": [
        {
          "output_type": "stream",
          "name": "stdout",
          "text": [
            "/content/drive/My Drive/train_data/labels/train\n"
          ]
        }
      ]
    },
    {
      "cell_type": "code",
      "source": [
        "import os\n",
        "count=0\n",
        "for i in os.listdir():\n",
        "  os.rename(i,str(count)+ '.'+ i.split('.')[-1])\n",
        "  count+=1"
      ],
      "metadata": {
        "id": "DPEuSmYYHddW"
      },
      "execution_count": null,
      "outputs": []
    },
    {
      "cell_type": "code",
      "source": [
        "%cd '/content/drive/My Drive/train_data/images/val'"
      ],
      "metadata": {
        "colab": {
          "base_uri": "https://localhost:8080/"
        },
        "id": "bhQBpWtxHh5U",
        "outputId": "43b0a877-73b7-4f55-faf8-0f9d9001b2d2"
      },
      "execution_count": null,
      "outputs": [
        {
          "output_type": "stream",
          "name": "stdout",
          "text": [
            "/content/drive/My Drive/train_data/images/val\n"
          ]
        }
      ]
    },
    {
      "cell_type": "code",
      "source": [
        "import os\n",
        "count=127\n",
        "for i in os.listdir():\n",
        "  os.rename(i,str(count)+ '.'+ i.split('.')[-1])\n",
        "  count+=1"
      ],
      "metadata": {
        "id": "HtVZ8NzBH-km"
      },
      "execution_count": null,
      "outputs": []
    },
    {
      "cell_type": "code",
      "source": [
        "%cd '/content/drive/My Drive/train_data/labels/val'"
      ],
      "metadata": {
        "id": "DfM2HlG1Ii3j",
        "outputId": "ed6cb3b6-4c61-41f0-d3b3-293cbea3f4ac",
        "colab": {
          "base_uri": "https://localhost:8080/"
        }
      },
      "execution_count": null,
      "outputs": [
        {
          "output_type": "stream",
          "name": "stdout",
          "text": [
            "/content/drive/My Drive/train_data/labels/val\n"
          ]
        }
      ]
    },
    {
      "cell_type": "code",
      "source": [
        "import os\n",
        "count=127\n",
        "for i in os.listdir():\n",
        "  os.rename(i,str(count)+ '.'+ i.split('.')[-1])\n",
        "  count+=1"
      ],
      "metadata": {
        "id": "3Elw8tmoIlSY"
      },
      "execution_count": null,
      "outputs": []
    }
  ]
}