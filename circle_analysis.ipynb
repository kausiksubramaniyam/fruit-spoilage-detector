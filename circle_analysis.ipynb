{
  "nbformat": 4,
  "nbformat_minor": 0,
  "metadata": {
    "colab": {
      "provenance": []
    },
    "kernelspec": {
      "name": "python3",
      "display_name": "Python 3"
    },
    "language_info": {
      "name": "python"
    }
  },
  "cells": [
    {
      "cell_type": "code",
      "source": [
        "import cv2\n",
        "import numpy as np\n",
        "img = cv2.imread('mangorot3.jpg', 0)\n",
        "seed_pt = (25, 25)\n",
        "fill_color = 0\n",
        "mask = np.zeros_like(img)\n",
        "kernel = cv2.getStructuringElement(cv2.MORPH_RECT, (3, 3))\n",
        "for th in range(60, 120):\n",
        "    prev_mask = mask.copy()\n",
        "    mask = cv2.threshold(img, th, 255, cv2.THRESH_BINARY)[1]\n",
        "    mask = cv2.floodFill(mask, None, seed_pt, fill_color)[1]\n",
        "    mask = cv2.bitwise_or(mask, prev_mask)\n",
        "    mask = cv2.morphologyEx(mask, cv2.MORPH_OPEN, kernel)\n",
        "\n",
        "n_centers = cv2.connectedComponents(mask)[0] - 1\n",
        "print('No. of Distinct Damage Circles : %d .'%n_centers)"
      ],
      "metadata": {
        "colab": {
          "base_uri": "https://localhost:8080/"
        },
        "id": "yLfbMnsklC-a",
        "outputId": "b165e531-d8e3-448f-ad72-15cef560a566"
      },
      "execution_count": null,
      "outputs": [
        {
          "output_type": "stream",
          "name": "stdout",
          "text": [
            "No. of Distinct Damage Circles : 3 .\n"
          ]
        }
      ]
    }
  ]
}